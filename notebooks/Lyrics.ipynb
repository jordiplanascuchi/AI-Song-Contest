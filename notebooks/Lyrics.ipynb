{
 "cells": [
  {
   "cell_type": "markdown",
   "id": "periodic-chick",
   "metadata": {},
   "source": [
    "## Dependencies\n",
    "* openai"
   ]
  },
  {
   "cell_type": "code",
   "execution_count": 5,
   "id": "biological-canon",
   "metadata": {},
   "outputs": [],
   "source": [
    "import sys\n",
    "sys.path.append(\"../\")"
   ]
  },
  {
   "cell_type": "code",
   "execution_count": 6,
   "id": "dependent-robertson",
   "metadata": {},
   "outputs": [],
   "source": [
    "import openai\n",
    "from src.decorators import load_key_secret"
   ]
  },
  {
   "cell_type": "code",
   "execution_count": 74,
   "id": "anticipated-design",
   "metadata": {},
   "outputs": [],
   "source": [
    "path = \"/home/propietari/Documents/claus/\"\n",
    "filename = \"OpenAI_keys_JordiPlanas.json\"\n",
    "@load_key_secret(path, filename, \"secret\")\n",
    "def return_secret(secret):\n",
    "    return secret\n",
    "\n",
    "def create_completion(text_to_complete, number_of_samples, tokens):\n",
    "    return openai.Completion.create(\n",
    "        engine = \"davinci-instruct-beta\",\n",
    "        prompt = text_to_complete,\n",
    "        temperature = 0.9,\n",
    "        max_tokens = tokens,\n",
    "#         stop = \"\\n\\n\",\n",
    "        n = number_of_samples #by default it gives you 4 choices so you multiply 4 times n\n",
    "    )\n",
    "def import_text_from_file(path, filename):\n",
    "    file = path + filename\n",
    "    with open(file) as f:\n",
    "        lines = f.readlines()\n",
    "    return lines\n",
    "\n",
    "def calculate_tokens(text):\n",
    "    string = \"\"\n",
    "    for item in text:\n",
    "        string = string + item\n",
    "    return(len(string)/4)\n",
    "\n",
    "def filter_response():\n",
    "    \n",
    "\n",
    "def show_responses(base_text, filtered_response):\n",
    "    string = \"\"\n",
    "    for item in base_text:\n",
    "        string = string + item\n",
    "        \n",
    "    i = 1\n",
    "    for item in response[\"choices\"]:\n",
    "        new_text = item[\"text\"]\n",
    "        new_text = new_text.replace(\"\\n\\n\", \"\\n\")\n",
    "        print(f\"*** {i} ***\\n{string}{new_text}\\n\")\n",
    "        i += 1"
   ]
  },
  {
   "cell_type": "code",
   "execution_count": 8,
   "id": "terminal-carter",
   "metadata": {},
   "outputs": [],
   "source": [
    "openai.api_key = return_secret()"
   ]
  },
  {
   "cell_type": "code",
   "execution_count": 20,
   "id": "accredited-latino",
   "metadata": {},
   "outputs": [],
   "source": [
    "path = \"../input/\"\n",
    "filename = \"Song.txt\"\n",
    "original_text = import_text_from_file(path, filename)"
   ]
  },
  {
   "cell_type": "code",
   "execution_count": 75,
   "id": "convertible-decimal",
   "metadata": {},
   "outputs": [],
   "source": [
    "response = create_completion(original_text[0:4], 1, int(calculate_tokens(original_text[0:4]) * 2))"
   ]
  },
  {
   "cell_type": "code",
   "execution_count": 76,
   "id": "complete-logan",
   "metadata": {},
   "outputs": [
    {
     "name": "stdout",
     "output_type": "stream",
     "text": [
      "*** 1 ***\n",
      "Good day, as the Australians say\n",
      "But do you know if it’s good or bad?\n",
      "Are there days when you’re happy or sad?\n",
      "Have you ever felt young\n",
      "\n",
      "-Hello\n",
      "How's it going?\n",
      "-Eh, alright.\n",
      "You look like you're in a good mood\n",
      "-Yes, I\n",
      "\n",
      "*** 2 ***\n",
      "Good day, as the Australians say\n",
      "But do you know if it’s good or bad?\n",
      "Are there days when you’re happy or sad?\n",
      "Have you ever felt young\n",
      "\n",
      "I’ll take it apart and see what I can find.\n",
      "\n",
      "*** 3 ***\n",
      "Good day, as the Australians say\n",
      "But do you know if it’s good or bad?\n",
      "Are there days when you’re happy or sad?\n",
      "Have you ever felt young\n",
      "\n",
      "Yes. I’ve been feeling a lot better.\n",
      "Are you feeling any better?\n",
      "There are better days.\n",
      "5. Do you\n",
      "\n",
      "*** 4 ***\n",
      "Good day, as the Australians say\n",
      "But do you know if it’s good or bad?\n",
      "Are there days when you’re happy or sad?\n",
      "Have you ever felt young\n",
      "\n",
      "Like you're caught up in the moments\n",
      "A feeling of everything is right\n",
      "But if only for a moment\n",
      "Give me the chance to take you\n",
      "\n"
     ]
    }
   ],
   "source": [
    "show_responses(original_text[0:4], response)"
   ]
  },
  {
   "cell_type": "code",
   "execution_count": 77,
   "id": "native-webmaster",
   "metadata": {},
   "outputs": [
    {
     "data": {
      "text/plain": [
       "<OpenAIObject text_completion id=cmpl-2oVYyZwW9gAWVyw6jovCJymOXbcKS at 0x7f5cbf47f0e0> JSON: {\n",
       "  \"choices\": [\n",
       "    {\n",
       "      \"finish_reason\": \"length\",\n",
       "      \"index\": 0,\n",
       "      \"logprobs\": null,\n",
       "      \"text\": \"\\n-Hello\\n\\nHow's it going?\\n\\n-Eh, alright.\\n\\nYou look like you're in a good mood\\n\\n-Yes, I\"\n",
       "    },\n",
       "    {\n",
       "      \"finish_reason\": \"stop\",\n",
       "      \"index\": 1,\n",
       "      \"logprobs\": null,\n",
       "      \"text\": \"\\nI\\u2019ll take it apart and see what I can find.\"\n",
       "    },\n",
       "    {\n",
       "      \"finish_reason\": \"length\",\n",
       "      \"index\": 2,\n",
       "      \"logprobs\": null,\n",
       "      \"text\": \"\\nYes. I\\u2019ve been feeling a lot better.\\n\\nAre you feeling any better?\\n\\nThere are better days.\\n\\n5. Do you\"\n",
       "    },\n",
       "    {\n",
       "      \"finish_reason\": \"length\",\n",
       "      \"index\": 3,\n",
       "      \"logprobs\": null,\n",
       "      \"text\": \"\\nLike you're caught up in the moments\\n\\nA feeling of everything is right\\n\\nBut if only for a moment\\n\\nGive me the chance to take you\"\n",
       "    }\n",
       "  ],\n",
       "  \"created\": 1618390404,\n",
       "  \"id\": \"cmpl-2oVYyZwW9gAWVyw6jovCJymOXbcKS\",\n",
       "  \"model\": \"if-davinci-v2\",\n",
       "  \"object\": \"text_completion\"\n",
       "}"
      ]
     },
     "execution_count": 77,
     "metadata": {},
     "output_type": "execute_result"
    }
   ],
   "source": [
    "response"
   ]
  },
  {
   "cell_type": "code",
   "execution_count": null,
   "id": "patent-holder",
   "metadata": {},
   "outputs": [],
   "source": [
    "summary_text"
   ]
  }
 ],
 "metadata": {
  "kernelspec": {
   "display_name": "Python 3",
   "language": "python",
   "name": "python3"
  },
  "language_info": {
   "codemirror_mode": {
    "name": "ipython",
    "version": 3
   },
   "file_extension": ".py",
   "mimetype": "text/x-python",
   "name": "python",
   "nbconvert_exporter": "python",
   "pygments_lexer": "ipython3",
   "version": "3.8.8"
  },
  "toc": {
   "base_numbering": 1,
   "nav_menu": {},
   "number_sections": true,
   "sideBar": true,
   "skip_h1_title": true,
   "title_cell": "Table of Contents",
   "title_sidebar": "Contents",
   "toc_cell": false,
   "toc_position": {},
   "toc_section_display": true,
   "toc_window_display": false
  }
 },
 "nbformat": 4,
 "nbformat_minor": 5
}
