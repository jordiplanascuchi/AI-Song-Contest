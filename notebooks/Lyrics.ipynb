{
 "cells": [
  {
   "cell_type": "markdown",
   "id": "periodic-chick",
   "metadata": {},
   "source": [
    "## Dependencies\n",
    "* openai"
   ]
  },
  {
   "cell_type": "code",
   "execution_count": 5,
   "id": "biological-canon",
   "metadata": {},
   "outputs": [],
   "source": [
    "import sys\n",
    "sys.path.append(\"../\")"
   ]
  },
  {
   "cell_type": "code",
   "execution_count": 89,
   "id": "dependent-robertson",
   "metadata": {},
   "outputs": [],
   "source": [
    "import openai\n",
    "import re\n",
    "from src.decorators import load_key_secret"
   ]
  },
  {
   "cell_type": "code",
   "execution_count": 125,
   "id": "anticipated-design",
   "metadata": {},
   "outputs": [],
   "source": [
    "path = \"/home/propietari/Documents/claus/\"\n",
    "filename = \"OpenAI_keys_JordiPlanas.json\"\n",
    "@load_key_secret(path, filename, \"secret\")\n",
    "def return_secret(secret):\n",
    "    return secret\n",
    "\n",
    "def create_completion(text_to_complete, number_of_samples, tokens):\n",
    "    return openai.Completion.create(\n",
    "        engine = \"davinci-instruct-beta\",\n",
    "        prompt = text_to_complete,\n",
    "        temperature = 0.9,\n",
    "        max_tokens = tokens,\n",
    "#         stop = \"\\n\\n\",\n",
    "        n = number_of_samples #by default it gives you 4 choices so you multiply 4 times n\n",
    "    )\n",
    "def import_text_from_file(path, filename):\n",
    "    file = path + filename\n",
    "    with open(file) as f:\n",
    "        lines = f.readlines()\n",
    "    return lines\n",
    "\n",
    "def calculate_tokens(text):\n",
    "    string = \"\"\n",
    "    for item in text:\n",
    "        string = string + item\n",
    "    return(len(string)/4)\n",
    "\n",
    "find_digit = re.compile(r'\\d')\n",
    "def filter_response(response, stanza_length, max_verse_length, min_verse_length):\n",
    "    clean_list = []\n",
    "    for item in response[\"choices\"]:\n",
    "        new_text = item[\"text\"]\n",
    "        new_text = new_text.strip(\"\\n\")\n",
    "        new_text = new_text.replace(\"\\n\\n\", \"\\n\")\n",
    "        text_list = new_text.split(\"\\n\")\n",
    "        string = \"\\n\"\n",
    "        flag = True\n",
    "        if len(text_list) >= stanza_length:\n",
    "            for verse in text_list[0:stanza_length]:\n",
    "                if re.search(r'\\d+', verse) is None and verse not in string and len(verse) < max_verse_length and len(verse) > min_verse_length:\n",
    "                    string = string + verse + \"\\n\"\n",
    "                else:\n",
    "                    flag = False\n",
    "            if flag is True:        \n",
    "                clean_list.append(string)\n",
    "    return clean_list\n",
    "            \n",
    "    \n",
    "\n",
    "def show_responses(base_text, filtered_response):\n",
    "    string = \"\"\n",
    "    for item in base_text:\n",
    "        string = string + item\n",
    "    i = 0\n",
    "    for stanza in filtered_response:\n",
    "        print(f\"*** {i} ***\\n{string}{stanza}\\n\")\n",
    "        i += 1"
   ]
  },
  {
   "cell_type": "code",
   "execution_count": 8,
   "id": "terminal-carter",
   "metadata": {},
   "outputs": [],
   "source": [
    "openai.api_key = return_secret()"
   ]
  },
  {
   "cell_type": "code",
   "execution_count": 124,
   "id": "accredited-latino",
   "metadata": {},
   "outputs": [
    {
     "name": "stdout",
     "output_type": "stream",
     "text": [
      "max verse length is: 52 and min verse length is: 11\n"
     ]
    }
   ],
   "source": [
    "path = \"../input/\"\n",
    "filename = \"Song.txt\"\n",
    "original_text = import_text_from_file(path, filename)\n",
    "\n",
    "maxim = 0\n",
    "minim = 50\n",
    "for i,item in enumerate(original_text):\n",
    "    if len(item) > maxim:\n",
    "        maxim = len(item)\n",
    "    if len(item) < minim:\n",
    "        minim = len(item)\n",
    "    \n",
    "print(\"max verse length is:\", maxim, \"and min verse length is:\", minim)"
   ]
  },
  {
   "cell_type": "code",
   "execution_count": 127,
   "id": "convertible-decimal",
   "metadata": {},
   "outputs": [],
   "source": [
    "input_stanza_length = 5\n",
    "output_stanza_length = 5\n",
    "max_verse_length = 55\n",
    "min_verse_length = 10\n",
    "text_to_complete = original_text[0:input_stanza_length]\n",
    "response = create_completion(text_to_complete, 2, int(calculate_tokens(text_to_complete) * 3))"
   ]
  },
  {
   "cell_type": "code",
   "execution_count": 129,
   "id": "native-webmaster",
   "metadata": {},
   "outputs": [
    {
     "name": "stdout",
     "output_type": "stream",
     "text": [
      "*** 0 ***\n",
      "Good day, as we usually say\n",
      "But do you know if it’s good or bad?\n",
      "Are there days when you’re happy or sad?\n",
      "Have you ever felt young\n",
      "Or ever felt old?\n",
      "\n",
      "You're a handsome man\n",
      "Please, what's your name?\n",
      "I'm Morris, but people say I'm a chubby\n",
      "Now, don't you worry\n",
      "You're a chubby guy\n",
      "\n",
      "\n",
      "*** 1 ***\n",
      "Good day, as we usually say\n",
      "But do you know if it’s good or bad?\n",
      "Are there days when you’re happy or sad?\n",
      "Have you ever felt young\n",
      "Or ever felt old?\n",
      "\n",
      "How often does this happen?\n",
      "What makes you happy?\n",
      "What makes you sad?\n",
      "What do you do when  you’re happy?\n",
      "What do you do when you’re sad?\n",
      "\n",
      "\n",
      "*** 2 ***\n",
      "Good day, as we usually say\n",
      "But do you know if it’s good or bad?\n",
      "Are there days when you’re happy or sad?\n",
      "Have you ever felt young\n",
      "Or ever felt old?\n",
      "\n",
      "Have you ever felt old\n",
      "Have you ever felt hungry\n",
      "Have you ever felt full\n",
      "Have you ever fallen down\n",
      "Have you ever fallen out\n",
      "\n",
      "\n",
      "*** 3 ***\n",
      "Good day, as we usually say\n",
      "But do you know if it’s good or bad?\n",
      "Are there days when you’re happy or sad?\n",
      "Have you ever felt young\n",
      "Or ever felt old?\n",
      "\n",
      "People with money\n",
      "Just take it all for granted\n",
      "And people with time\n",
      "Don’t know what to do with it\n",
      "Age, old, time, people, money, people, time, money\n",
      "\n",
      "\n",
      "*** 4 ***\n",
      "Good day, as we usually say\n",
      "But do you know if it’s good or bad?\n",
      "Are there days when you’re happy or sad?\n",
      "Have you ever felt young\n",
      "Or ever felt old?\n",
      "\n",
      "If so, that must be thrilling.\n",
      "You just might have a winning smile\n",
      "or a likeable personality.\n",
      "The next time you're feeling old\n",
      "just remember the song\n",
      "\n",
      "\n"
     ]
    }
   ],
   "source": [
    "\n",
    "show_responses(text_to_complete, filter_response(response, output_stanza_length, max_verse_length, min_verse_length))"
   ]
  },
  {
   "cell_type": "code",
   "execution_count": null,
   "id": "patent-holder",
   "metadata": {},
   "outputs": [],
   "source": [
    "summary_text"
   ]
  }
 ],
 "metadata": {
  "kernelspec": {
   "display_name": "Python 3",
   "language": "python",
   "name": "python3"
  },
  "language_info": {
   "codemirror_mode": {
    "name": "ipython",
    "version": 3
   },
   "file_extension": ".py",
   "mimetype": "text/x-python",
   "name": "python",
   "nbconvert_exporter": "python",
   "pygments_lexer": "ipython3",
   "version": "3.8.8"
  },
  "toc": {
   "base_numbering": 1,
   "nav_menu": {},
   "number_sections": true,
   "sideBar": true,
   "skip_h1_title": true,
   "title_cell": "Table of Contents",
   "title_sidebar": "Contents",
   "toc_cell": false,
   "toc_position": {},
   "toc_section_display": true,
   "toc_window_display": false
  }
 },
 "nbformat": 4,
 "nbformat_minor": 5
}
