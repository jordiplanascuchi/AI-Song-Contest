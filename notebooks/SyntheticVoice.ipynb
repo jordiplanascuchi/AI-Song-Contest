{
 "cells": [
  {
   "cell_type": "code",
   "execution_count": 1,
   "id": "bd94c786",
   "metadata": {},
   "outputs": [
    {
     "name": "stdout",
     "output_type": "stream",
     "text": [
      "Error: s'ha d'executar com a root\n",
      "yes: eixida estàndard: La canonada s’ha trencat\n",
      "S'està llegint la llista de paquets… Fet \n",
      "\u001b[1;31mE: \u001b[0mNo s'ha pogut obrir el fitxer de blocat /var/lib/apt/lists/lock - open (13: S’ha denegat el permís)\u001b[0m\n",
      "\u001b[1;31mE: \u001b[0mNo es pot blocar el directori /var/lib/apt/lists/\u001b[0m\n",
      "\u001b[1;33mW: \u001b[0mHi ha hagut un problema en desenllaçar el fitxer /var/cache/apt/pkgcache.bin - RemoveCaches (13: S’ha denegat el permís)\u001b[0m\n",
      "\u001b[1;33mW: \u001b[0mHi ha hagut un problema en desenllaçar el fitxer /var/cache/apt/srcpkgcache.bin - RemoveCaches (13: S’ha denegat el permís)\u001b[0m\n",
      "\u001b[1;31mE: \u001b[0mNo s'ha pogut obrir el fitxer de blocat /var/lib/dpkg/lock-frontend - open (13: S’ha denegat el permís)\u001b[0m\n",
      "\u001b[1;31mE: \u001b[0mNo es pot obtenir el bloqueig de la interfície del dpkg (/var/lib/dpkg/lock-frontend). Sou root?\u001b[0m\n",
      "ln: no s’ha pogut crear l’enllaç simbòlic '/usr/bin/musescore': S’ha denegat el permís\n"
     ]
    }
   ],
   "source": [
    "!yes | add-apt-repository ppa:mscore-ubuntu/mscore3-stable\n",
    "!apt update\n",
    "!apt install musescore3\n",
    "!ln -s /usr/bin/musescore3 /usr/bin/musescore"
   ]
  },
  {
   "cell_type": "code",
   "execution_count": null,
   "id": "28d60bfb",
   "metadata": {},
   "outputs": [],
   "source": []
  }
 ],
 "metadata": {
  "kernelspec": {
   "display_name": "Python 3",
   "language": "python",
   "name": "python3"
  },
  "language_info": {
   "codemirror_mode": {
    "name": "ipython",
    "version": 3
   },
   "file_extension": ".py",
   "mimetype": "text/x-python",
   "name": "python",
   "nbconvert_exporter": "python",
   "pygments_lexer": "ipython3",
   "version": "3.8.8"
  }
 },
 "nbformat": 4,
 "nbformat_minor": 5
}
