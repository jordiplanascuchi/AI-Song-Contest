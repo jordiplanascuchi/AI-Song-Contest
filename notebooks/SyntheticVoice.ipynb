{
 "cells": [
  {
   "cell_type": "code",
   "execution_count": null,
   "id": "2d0ba698",
   "metadata": {},
   "outputs": [
    {
     "name": "stdout",
     "output_type": "stream",
     "text": [
      "[sudo] contrasenya per a propietari: Error: s'ha d'executar com a root\n"
     ]
    }
   ],
   "source": [
    " import getpass\n",
    " import os\n",
    "\n",
    "#  password = getpass.getpass()\n",
    "#  command = \"sudo -S yes | add-apt-repository ppa:mscore-ubuntu/mscore3-stable\" # can be any command but don't forget -S as it enables input from stdin\n",
    "#  os.popen(command, 'w').write(password+'\\n')\n",
    "    \n",
    "#  password = getpass.getpass()\n",
    "#  command = \"sudo -S yes | add-apt-repository ppa:mscore-ubuntu/mscore3-stable\" #can be any command but don't forget -S as it enables input from stdin\n",
    "#  os.system('echo %s | %s' % (password, command))\n",
    "\n",
    "!sudo -S yes | add-apt-repository ppa:mscore-ubuntu/mscore3-stable ../claus/ClauMestra"
   ]
  },
  {
   "cell_type": "code",
   "execution_count": null,
   "id": "8a95c38f",
   "metadata": {},
   "outputs": [
    {
     "name": "stdout",
     "output_type": "stream",
     "text": [
      "[sudo] contrasenya per a propietari: Error: s'ha d'executar com a root\n",
      "\n",
      "[sudo] contrasenya per a propietari: \n",
      "[sudo] contrasenya per a propietari: "
     ]
    }
   ],
   "source": [
    "!sudo yes | add-apt-repository ppa:mscore-ubuntu/mscore3-stable\n",
    "!sudo apt update\n",
    "!sudo apt install musescore3\n",
    "!sudo ln -s /usr/bin/musescore3 /usr/bin/musescore"
   ]
  },
  {
   "cell_type": "code",
   "execution_count": null,
   "id": "399d4cd8",
   "metadata": {},
   "outputs": [],
   "source": []
  }
 ],
 "metadata": {
  "kernelspec": {
   "display_name": "Python 3",
   "language": "python",
   "name": "python3"
  },
  "language_info": {
   "codemirror_mode": {
    "name": "ipython",
    "version": 3
   },
   "file_extension": ".py",
   "mimetype": "text/x-python",
   "name": "python",
   "nbconvert_exporter": "python",
   "pygments_lexer": "ipython3",
   "version": "3.8.8"
  }
 },
 "nbformat": 4,
 "nbformat_minor": 5
}
