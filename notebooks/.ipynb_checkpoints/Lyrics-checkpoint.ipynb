{
 "cells": [
  {
   "cell_type": "markdown",
   "id": "periodic-chick",
   "metadata": {},
   "source": [
    "## Dependencies\n",
    "* openai"
   ]
  },
  {
   "cell_type": "code",
   "execution_count": 5,
   "id": "biological-canon",
   "metadata": {},
   "outputs": [],
   "source": [
    "import sys\n",
    "sys.path.append(\"../\")"
   ]
  },
  {
   "cell_type": "code",
   "execution_count": 89,
   "id": "dependent-robertson",
   "metadata": {},
   "outputs": [],
   "source": [
    "import openai\n",
    "import re\n",
    "from src.decorators import load_key_secret"
   ]
  },
  {
   "cell_type": "code",
   "execution_count": 110,
   "id": "anticipated-design",
   "metadata": {},
   "outputs": [],
   "source": [
    "path = \"/home/propietari/Documents/claus/\"\n",
    "filename = \"OpenAI_keys_JordiPlanas.json\"\n",
    "@load_key_secret(path, filename, \"secret\")\n",
    "def return_secret(secret):\n",
    "    return secret\n",
    "\n",
    "def create_completion(text_to_complete, number_of_samples, tokens):\n",
    "    return openai.Completion.create(\n",
    "        engine = \"davinci-instruct-beta\",\n",
    "        prompt = text_to_complete,\n",
    "        temperature = 0.9,\n",
    "        max_tokens = tokens,\n",
    "#         stop = \"\\n\\n\",\n",
    "        n = number_of_samples #by default it gives you 4 choices so you multiply 4 times n\n",
    "    )\n",
    "def import_text_from_file(path, filename):\n",
    "    file = path + filename\n",
    "    with open(file) as f:\n",
    "        lines = f.readlines()\n",
    "    return lines\n",
    "\n",
    "def calculate_tokens(text):\n",
    "    string = \"\"\n",
    "    for item in text:\n",
    "        string = string + item\n",
    "    return(len(string)/4)\n",
    "\n",
    "find_digit = re.compile(r'\\d')\n",
    "def filter_response(response):\n",
    "    clean_list = []\n",
    "    for item in response[\"choices\"]:\n",
    "        new_text = item[\"text\"]\n",
    "        new_text = new_text.strip(\"\\n\")\n",
    "        new_text = new_text.replace(\"\\n\\n\", \"\\n\")\n",
    "        text_list = new_text.split(\"\\n\")\n",
    "        string = \"\\n\"\n",
    "        flag = True\n",
    "        if len(text_list) >= 4:\n",
    "            for verse in text_list[0:4]:\n",
    "                if re.search(r'\\d+', verse) is None and verse not in string and len(verse) < 55:\n",
    "                    string = string + verse + \"\\n\"\n",
    "                else:\n",
    "                    flag = False\n",
    "            if flag is True:        \n",
    "                clean_list.append(string)\n",
    "    return clean_list\n",
    "            \n",
    "    \n",
    "\n",
    "def show_responses(base_text, filtered_response):\n",
    "    string = \"\"\n",
    "    for item in base_text:\n",
    "        string = string + item\n",
    "    i = 0\n",
    "    for stanza in filtered_response:\n",
    "        print(f\"*** {i} ***\\n{string}{stanza}\\n\")\n",
    "        i += 1"
   ]
  },
  {
   "cell_type": "code",
   "execution_count": null,
   "id": "interim-athletics",
   "metadata": {},
   "outputs": [],
   "source": []
  },
  {
   "cell_type": "code",
   "execution_count": 8,
   "id": "terminal-carter",
   "metadata": {},
   "outputs": [],
   "source": [
    "openai.api_key = return_secret()"
   ]
  },
  {
   "cell_type": "code",
   "execution_count": 109,
   "id": "accredited-latino",
   "metadata": {},
   "outputs": [
    {
     "name": "stdout",
     "output_type": "stream",
     "text": [
      "max verse length is: 46\n"
     ]
    }
   ],
   "source": [
    "path = \"../input/\"\n",
    "filename = \"Song.txt\"\n",
    "original_text = import_text_from_file(path, filename)\n",
    "\n",
    "maxim = 0\n",
    "for i,item in enumerate(original_text):\n",
    "    if len(original_text) > maxim:\n",
    "        maxim = len(original_text)\n",
    "    \n",
    "print(\"max verse length is:\", maxim)"
   ]
  },
  {
   "cell_type": "code",
   "execution_count": 102,
   "id": "convertible-decimal",
   "metadata": {},
   "outputs": [],
   "source": [
    "text_to_complete = original_text[0:5]\n",
    "response = create_completion(text_to_complete, 2, int(calculate_tokens(text_to_complete) * 3))"
   ]
  },
  {
   "cell_type": "code",
   "execution_count": 111,
   "id": "native-webmaster",
   "metadata": {},
   "outputs": [
    {
     "name": "stdout",
     "output_type": "stream",
     "text": [
      "*** 0 ***\n",
      "Good day, as we usually say\n",
      "But do you know if it’s good or bad?\n",
      "Are there days when you’re happy or sad?\n",
      "Have you ever felt young\n",
      "\n",
      "What are your moods like?\n",
      "Are you normal or do you get excited easily?\n",
      "What are some of your favorite activities?\n",
      "What are some of your favorite things to do?\n",
      "\n",
      "\n",
      "*** 1 ***\n",
      "Good day, as we usually say\n",
      "But do you know if it’s good or bad?\n",
      "Are there days when you’re happy or sad?\n",
      "Have you ever felt young\n",
      "\n",
      "Have you ever felt sorry for yourself?\n",
      "What makes you want to live?\n",
      "Are you happy?\n",
      "What is your favorite way to spend time?\n",
      "\n",
      "\n",
      "*** 2 ***\n",
      "Good day, as we usually say\n",
      "But do you know if it’s good or bad?\n",
      "Are there days when you’re happy or sad?\n",
      "Have you ever felt young\n",
      "\n",
      "though the years prove otherwise\n",
      "have you ever felt young\n",
      "though it runs contrary\n",
      "And if you have\n",
      "\n",
      "\n"
     ]
    }
   ],
   "source": [
    "show_responses(text_to_complete, filter_response(response))"
   ]
  },
  {
   "cell_type": "code",
   "execution_count": null,
   "id": "patent-holder",
   "metadata": {},
   "outputs": [],
   "source": [
    "summary_text"
   ]
  }
 ],
 "metadata": {
  "kernelspec": {
   "display_name": "Python 3",
   "language": "python",
   "name": "python3"
  },
  "language_info": {
   "codemirror_mode": {
    "name": "ipython",
    "version": 3
   },
   "file_extension": ".py",
   "mimetype": "text/x-python",
   "name": "python",
   "nbconvert_exporter": "python",
   "pygments_lexer": "ipython3",
   "version": "3.8.8"
  },
  "toc": {
   "base_numbering": 1,
   "nav_menu": {},
   "number_sections": true,
   "sideBar": true,
   "skip_h1_title": true,
   "title_cell": "Table of Contents",
   "title_sidebar": "Contents",
   "toc_cell": false,
   "toc_position": {},
   "toc_section_display": true,
   "toc_window_display": false
  }
 },
 "nbformat": 4,
 "nbformat_minor": 5
}
