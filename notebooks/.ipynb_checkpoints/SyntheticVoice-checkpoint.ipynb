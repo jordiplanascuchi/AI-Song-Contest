{
 "cells": [
  {
   "cell_type": "code",
   "execution_count": null,
   "id": "124f84c8",
   "metadata": {},
   "outputs": [],
   "source": [
    "!yes | add-apt-repository ppa:mscore-ubuntu/mscore3-stable\n",
    "!apt update\n",
    "!apt install musescore3\n",
    "!ln -s /usr/bin/musescore3 /usr/bin/musescore"
   ]
  }
 ],
 "metadata": {
  "kernelspec": {
   "display_name": "Python 3",
   "language": "python",
   "name": "python3"
  },
  "language_info": {
   "codemirror_mode": {
    "name": "ipython",
    "version": 3
   },
   "file_extension": ".py",
   "mimetype": "text/x-python",
   "name": "python",
   "nbconvert_exporter": "python",
   "pygments_lexer": "ipython3",
   "version": "3.8.8"
  }
 },
 "nbformat": 4,
 "nbformat_minor": 5
}
