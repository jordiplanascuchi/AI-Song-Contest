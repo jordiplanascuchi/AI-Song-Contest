{
 "cells": [
  {
   "cell_type": "markdown",
   "id": "periodic-chick",
   "metadata": {},
   "source": [
    "## Dependencies\n",
    "* openai"
   ]
  },
  {
   "cell_type": "code",
   "execution_count": 1,
   "id": "biological-canon",
   "metadata": {},
   "outputs": [],
   "source": [
    "import sys\n",
    "sys.path.append(\"../\")"
   ]
  },
  {
   "cell_type": "markdown",
   "id": "improved-bandwidth",
   "metadata": {},
   "source": [
    "To fully run this notebook you need to:\n",
    "\n",
    "* Clone the GitHub repo "
   ]
  },
  {
   "cell_type": "code",
   "execution_count": 87,
   "id": "dependent-robertson",
   "metadata": {},
   "outputs": [],
   "source": [
    "import csv\n",
    "import openai\n",
    "import re\n",
    "from src.decorators import load_key_secret"
   ]
  },
  {
   "cell_type": "code",
   "execution_count": 129,
   "id": "anticipated-design",
   "metadata": {},
   "outputs": [],
   "source": [
    "path = \"/home/propietari/Documents/claus/\" # TODO: Adjust to your path\n",
    "filename = \"OpenAI_keys_JordiPlanas.json\" # TODO: Adjust to your filename\n",
    "\n",
    "@load_key_secret(path, filename, \"secret\")\n",
    "def return_secret(secret):\n",
    "    return secret\n",
    "\n",
    "def create_completion(text_to_complete, number_of_samples, tokens):\n",
    "    return openai.Completion.create(\n",
    "        engine = \"davinci-instruct-beta\",\n",
    "        prompt = text_to_complete,\n",
    "        temperature = 1,\n",
    "        max_tokens = tokens,\n",
    "#         stop = \"\\n\\n\",\n",
    "        n = number_of_samples #by default it gives you 4 choices so you multiply 4 times n\n",
    "    )\n",
    "\n",
    "def import_text_from_file(language):\n",
    "    path = \"../input/\"\n",
    "    if \"atal\" in language:\n",
    "        filename = \"Chorus_Catalan.txt\"\n",
    "    elif \"ngli\" in language:\n",
    "        filename = \"Chorus_English.txt\"\n",
    "    file = path + filename\n",
    "    with open(file) as f:\n",
    "        lines = f.readlines()\n",
    "    return lines\n",
    "\n",
    "def calculate_tokens(text):\n",
    "    string = \"\"\n",
    "    length = 0\n",
    "    i = 0\n",
    "    j = 0\n",
    "    for item in text:\n",
    "        if j > 0:\n",
    "            if len(item) < 2:\n",
    "                length = length + len(string)\n",
    "                i += 1\n",
    "                string = \"\"\n",
    "            else:\n",
    "                string = string + item\n",
    "        j += 1\n",
    "        \n",
    "    return(int((length/i)/4))\n",
    "\n",
    "def create_list_of_prompts(text):\n",
    "    i = 0\n",
    "    prompts = []\n",
    "    string = \"\"\n",
    "    for item in text:\n",
    "        if len(item) > 1:\n",
    "            if i < 20:\n",
    "                flag = True\n",
    "                string = string + item\n",
    "            else:\n",
    "                flag = False\n",
    "                prompts.append(string)\n",
    "                i = -1\n",
    "                string = item      \n",
    "        i += 1\n",
    "    if flag:\n",
    "        prompts.append(string)\n",
    "    return prompts\n",
    "        \n",
    "\n",
    "find_digit = re.compile(r'\\d')\n",
    "def filter_response(response, stanza_length, max_verse_length, min_verse_length):\n",
    "    clean_list = []\n",
    "    for item in response[\"choices\"]:\n",
    "        new_text = item[\"text\"]\n",
    "        new_text = new_text.strip(\"\\n\")\n",
    "        new_text = new_text.replace(\"\\n\\n\", \"\\n\")\n",
    "        text_list = new_text.split(\"\\n\")\n",
    "        string = \"\\n\"\n",
    "        flag = True\n",
    "        if len(text_list) >= stanza_length:\n",
    "            for verse in text_list[0:stanza_length]:\n",
    "                if re.search(r'\\d+', verse) is None and len(verse) < max_verse_length and len(verse) > min_verse_length:\n",
    "                    string = string + verse + \"\\n\"\n",
    "                else:\n",
    "                    flag = False\n",
    "            if flag is True:        \n",
    "                clean_list.append(string)\n",
    "    return clean_list\n",
    "            \n",
    "    \n",
    "\n",
    "def show_and_save_responses(language,filtered_response):\n",
    "    path = \"../output/\"\n",
    "    if \"atal\" in language:\n",
    "        filename = \"Catalan_chorus.txt\"\n",
    "    elif \"ngli\" in language:\n",
    "        filename = \"English_chorus.txt\"\n",
    "    file = path + filename\n",
    "    i = 0\n",
    "    for stanza in filtered_response:\n",
    "        print(f\"*** {i} ***\\n{stanza}\\n\")\n",
    "        i += 1\n",
    "        with open(file, 'a+') as f:\n",
    "            f.write(stanza)"
   ]
  },
  {
   "cell_type": "code",
   "execution_count": 4,
   "id": "terminal-carter",
   "metadata": {},
   "outputs": [],
   "source": [
    "openai.api_key = return_secret()"
   ]
  },
  {
   "cell_type": "code",
   "execution_count": 120,
   "id": "accredited-latino",
   "metadata": {},
   "outputs": [
    {
     "name": "stdout",
     "output_type": "stream",
     "text": [
      "chorus average number of  tokens:24, max verse length is:39, and min verse length is:27\n"
     ]
    }
   ],
   "source": [
    "language = \"English\" # Select \"Catalan\" if you want to generate text in catalan\n",
    "\n",
    "original_text = import_text_from_file(language)\n",
    "\n",
    "maxim = 0\n",
    "minim = 50\n",
    "j = 0\n",
    "for i,item in enumerate(original_text):\n",
    "    if j > 1:\n",
    "        if len(item) > maxim:\n",
    "            maxim = len(item)\n",
    "        if len(item) < minim and len(item) > 1:\n",
    "            minim = len(item)\n",
    "    j += 1\n",
    "    \n",
    "print(f\"chorus average number of  tokens:{calculate_tokens(original_text)}, max verse length is:{maxim}, and min verse length is:{minim}\")\n",
    "average_tokens = calculate_tokens(original_text)"
   ]
  },
  {
   "cell_type": "code",
   "execution_count": 132,
   "id": "bulgarian-ticket",
   "metadata": {},
   "outputs": [],
   "source": [
    "output_stanza_length = 4\n",
    "max_verse_length = 40\n",
    "min_verse_length = 27\n",
    "number_of_completions = 20"
   ]
  },
  {
   "cell_type": "code",
   "execution_count": 133,
   "id": "convertible-decimal",
   "metadata": {},
   "outputs": [
    {
     "name": "stdout",
     "output_type": "stream",
     "text": [
      "*** 0 ***\n",
      "\n",
      "I feel the wires and I feel the wires\n",
      "My blood flows and my heart beats\n",
      "I fear the lapse, I fear the lapse\n",
      "I keep discovering new things\n",
      "\n",
      "\n",
      "*** 1 ***\n",
      "\n",
      "I feel the wires, I feel the wires\n",
      "I feel the wires, I feel the wires\n",
      "My blood flows and my heart beats\n",
      "I fear the lapse, I fear the lapse\n",
      "\n",
      "\n",
      "*** 2 ***\n",
      "\n",
      "I'm finding new phrases, new colors\n",
      "The sun's a little bit brighter\n",
      "The day goes on a little longer\n",
      "I'm reflecting all difficulties\n",
      "\n",
      "\n"
     ]
    }
   ],
   "source": [
    "for text_to_complete in create_list_of_prompts(original_text):\n",
    "    response = create_completion(text_to_complete, number_of_completions, int(average_tokens * 2.5))\n",
    "    filtered_response = filter_response(response, output_stanza_length, max_verse_length, min_verse_length)\n",
    "    show_and_save_responses(language, filtered_response)"
   ]
  },
  {
   "cell_type": "code",
   "execution_count": 131,
   "id": "native-webmaster",
   "metadata": {
    "scrolled": true
   },
   "outputs": [
    {
     "data": {
      "text/plain": [
       "<OpenAIObject text_completion id=cmpl-2pLTTCEEdrTi2kyahIc50tk6Q7JwI at 0x7fa9b661a770> JSON: {\n",
       "  \"choices\": [\n",
       "    {\n",
       "      \"finish_reason\": \"length\",\n",
       "      \"index\": 0,\n",
       "      \"logprobs\": null,\n",
       "      \"text\": \"There will be light, sun will rise\\n\\\"\\n\\nIts about falling in love and being able to sense the feelings of somebody else's heart.\\n\\nElectric Youth recorded \\\"I Feel the Wires\\\" as their contribution to \\\"The Hunger Games Mockingjay Part 1 (Original Motion Picture Soundtrack)\\\" (released November 17, 2014).\\n\\nThe song has been praised by writers from Pitchfork Media, PopSugar, Bandcamp, Vh1 News, and Beautiful Noise. Raul Paez, writer for Bandcamp, commented, \\\"I love this band. I love this\"\n",
       "    },\n",
       "    {\n",
       "      \"finish_reason\": \"length\",\n",
       "      \"index\": 1,\n",
       "      \"logprobs\": null,\n",
       "      \"text\": \"I feel the wires, I feel the wires\\nI fell in love with the wires\\nAnd all of the sweet notes\\nI feel the wires, I feel the wires\\n\\\"I Fell In Love With the Wires\\\" by the Avett Brothers\\n\\n\\\"Da Wires (On and On)\\\" by Daft Punk\\n\\n\\\"Rome Wires\\\" by Jessica Simpson\\n\\nstrings\\nthe people who work to make sure that something is in working order (such as a piece of equipment)\\nstrings\\n\\\"Don't Drop It!\\\"\\n\\nYou and I knew better than to believe\"\n",
       "    },\n",
       "    {\n",
       "      \"finish_reason\": \"stop\",\n",
       "      \"index\": 2,\n",
       "      \"logprobs\": null,\n",
       "      \"text\": \"I walk the plank, step into water\\nI might fall, and that's ok\\nI have a new fear\\nThis one might be real\\nI taste the water, I taste the water\\nI taste the water, I taste the water\\n\"\n",
       "    },\n",
       "    {\n",
       "      \"finish_reason\": \"length\",\n",
       "      \"index\": 3,\n",
       "      \"logprobs\": null,\n",
       "      \"text\": \"I fear the lapse, I fear the lapse\\nI fear the lapse, I fear the lapse\\\"\\n\\n\\\"im fine\\\"\\n\\n\\\"S Is shared\\nI feel the world\\nI feel so much\\nI taste without teeth\\nand struggle without weight\\nSTAND. ON YOUR OWN.\\nKEEP MOVING FORWARD\\nEffort remembered\\nGifts discovered\\nI feel the world\\nI feel so much\\nwounds explored\\nI love myself\\\"\\n\\n\\\"because...\\\"\\n\\n\\\"I think I'm getting dark\\nand heavy\\nI'm reaching for the stars\\n\"\n",
       "    },\n",
       "    {\n",
       "      \"finish_reason\": \"stop\",\n",
       "      \"index\": 4,\n",
       "      \"logprobs\": null,\n",
       "      \"text\": \"I feel the wires, I feel the wires\\nThe one you love now becomes two in time\\nI feel the wires, I feel the wires.\\n\\n[\\\"sideA-repeat\\\"]: Repeat\\n\\n([CHORUS] repeat)\\n\\n([OUTRO] repeat)\\n\\nI feel the wires\"\n",
       "    },\n",
       "    {\n",
       "      \"finish_reason\": \"stop\",\n",
       "      \"index\": 5,\n",
       "      \"logprobs\": null,\n",
       "      \"text\": \"So many favorites, so many favorites\\nI feel the wires, I feel the wires\\nMy blood flows, and my heart beats\\nI feel the wires, I feel the wires\\nI feel the wires, I feel the wires\"\n",
       "    },\n",
       "    {\n",
       "      \"finish_reason\": \"stop\",\n",
       "      \"index\": 6,\n",
       "      \"logprobs\": null,\n",
       "      \"text\": \"I feel the wires, I feel the wires\\nI feel the wires, I feel the wires\\nI feel the wires, I feel the wires\"\n",
       "    },\n",
       "    {\n",
       "      \"finish_reason\": \"stop\",\n",
       "      \"index\": 7,\n",
       "      \"logprobs\": null,\n",
       "      \"text\": \"I feel the wires\\nI feel the wires\\nI feel the wires\\nI feel the wires around my waist\"\n",
       "    },\n",
       "    {\n",
       "      \"finish_reason\": \"length\",\n",
       "      \"index\": 8,\n",
       "      \"logprobs\": null,\n",
       "      \"text\": \"So do you want me? \\nI know you said so then\\n\\nThis song was included in the 2002 compilation album \\\"Local Flavor\\\".\\n\\nThe song \\\"What About Me?\\\" is a form of anxious acceleration. The song suggests a lot of fearful thoughts\\u2014a \\\"status quo,\\\" a \\\"stagnant identity,\\\" and a \\\"clausure.\\\" Yet, by avoiding these fearful thoughts, the protagonist of the song cannot deal with, what is interpreted to be a lack itself. A conclusion is found in identifying that the \\\"alienated,\\\" \\\"outer self\\\" is in the \\\"same\"\n",
       "    },\n",
       "    {\n",
       "      \"finish_reason\": \"length\",\n",
       "      \"index\": 9,\n",
       "      \"logprobs\": null,\n",
       "      \"text\": \"\\nI think of you when I try to fall asleep\\nI think of you when I try to fall asleep\\nAll the time I worry to myself\\nI think of you when I try to call you\\nI try my best to reach you but there's no reply\\n\\nI look around constantly\\nFor some answer, for some hope\\nI look around constantly\\nFor some answer, for some hope\\nI look around constantly\\nFor some answer, for some hope\\nI look around constantly\\nFor some answer, for some hope\\nI look around constantly\\nFor some answer, for some hope\"\n",
       "    }\n",
       "  ],\n",
       "  \"created\": 1618589951,\n",
       "  \"id\": \"cmpl-2pLTTCEEdrTi2kyahIc50tk6Q7JwI\",\n",
       "  \"model\": \"if-davinci-v2\",\n",
       "  \"object\": \"text_completion\"\n",
       "}"
      ]
     },
     "execution_count": 131,
     "metadata": {},
     "output_type": "execute_result"
    }
   ],
   "source": [
    "response"
   ]
  },
  {
   "cell_type": "code",
   "execution_count": 85,
   "id": "patent-holder",
   "metadata": {},
   "outputs": [
    {
     "name": "stdout",
     "output_type": "stream",
     "text": [
      "\n",
      "A prop d’una llum intensa\n",
      "Puja l’esperit en amunt\n",
      "i la mort cau a terra, morta’.\n",
      "I accepto tot el que passa\n",
      "\n",
      "\n",
      "sense que t'hagis adonat\n",
      "del propòsit que fins ara t'esperava\n",
      "i es tanquen les portes de foscor\n",
      "que van obres, camins de llum\n",
      "\n",
      "\n",
      "Quan ens somiem els dos\n",
      "som patrimoni il·legit\n",
      "Ah! no hi ha objecte de l’amor\n",
      "sinó el món que tenim alçat\n",
      "\n"
     ]
    }
   ],
   "source": [
    "for item in resultats_per_guardar:\n",
    "    print(item)"
   ]
  },
  {
   "cell_type": "code",
   "execution_count": 97,
   "id": "quantitative-promotion",
   "metadata": {},
   "outputs": [],
   "source": [
    "for item in resultats_per_guardar:\n",
    "    with open('../output/Englis_chorus.txt', 'a+') as f:\n",
    "        f.write(item)\n",
    "#         write = csv.writer(f)\n",
    "\n",
    "#         write.writerow(resultats_per_guardar)"
   ]
  },
  {
   "cell_type": "code",
   "execution_count": null,
   "id": "understanding-variety",
   "metadata": {},
   "outputs": [],
   "source": []
  }
 ],
 "metadata": {
  "kernelspec": {
   "display_name": "Python 3",
   "language": "python",
   "name": "python3"
  },
  "language_info": {
   "codemirror_mode": {
    "name": "ipython",
    "version": 3
   },
   "file_extension": ".py",
   "mimetype": "text/x-python",
   "name": "python",
   "nbconvert_exporter": "python",
   "pygments_lexer": "ipython3",
   "version": "3.8.8"
  },
  "toc": {
   "base_numbering": 1,
   "nav_menu": {},
   "number_sections": true,
   "sideBar": true,
   "skip_h1_title": true,
   "title_cell": "Table of Contents",
   "title_sidebar": "Contents",
   "toc_cell": false,
   "toc_position": {},
   "toc_section_display": true,
   "toc_window_display": false
  }
 },
 "nbformat": 4,
 "nbformat_minor": 5
}
